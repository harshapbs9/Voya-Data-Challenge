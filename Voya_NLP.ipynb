{
 "cells": [
  {
   "cell_type": "code",
   "execution_count": 1,
   "metadata": {},
   "outputs": [],
   "source": [
    "# Importing the libraries\n",
    "import numpy as np\n",
    "import matplotlib.pyplot as plt\n",
    "import pandas as pd\n",
    "import os\n",
    "os.chdir(\"C:\\MSBAPM\\Python\\Voya\\Voya_Final_Data\")"
   ]
  },
  {
   "cell_type": "code",
   "execution_count": 2,
   "metadata": {},
   "outputs": [
    {
     "data": {
      "text/html": [
       "<div>\n",
       "<style scoped>\n",
       "    .dataframe tbody tr th:only-of-type {\n",
       "        vertical-align: middle;\n",
       "    }\n",
       "\n",
       "    .dataframe tbody tr th {\n",
       "        vertical-align: top;\n",
       "    }\n",
       "\n",
       "    .dataframe thead th {\n",
       "        text-align: right;\n",
       "    }\n",
       "</style>\n",
       "<table border=\"1\" class=\"dataframe\">\n",
       "  <thead>\n",
       "    <tr style=\"text-align: right;\">\n",
       "      <th></th>\n",
       "      <th>Subject</th>\n",
       "      <th>Sent_Rate</th>\n",
       "      <th>S_Rate</th>\n",
       "      <th>Rate</th>\n",
       "      <th>Successful</th>\n",
       "    </tr>\n",
       "  </thead>\n",
       "  <tbody>\n",
       "    <tr>\n",
       "      <th>0</th>\n",
       "      <td>Utilizing 529 Plans during Tax Season</td>\n",
       "      <td>58735</td>\n",
       "      <td>7736.0</td>\n",
       "      <td>0.131710</td>\n",
       "      <td>0</td>\n",
       "    </tr>\n",
       "    <tr>\n",
       "      <th>1</th>\n",
       "      <td>College Savings can be a Slam Dunk with Tomorr...</td>\n",
       "      <td>58610</td>\n",
       "      <td>11054.0</td>\n",
       "      <td>0.188603</td>\n",
       "      <td>0</td>\n",
       "    </tr>\n",
       "    <tr>\n",
       "      <th>2</th>\n",
       "      <td>Join Us! Global Perspectives Midyear Outlook W...</td>\n",
       "      <td>53597</td>\n",
       "      <td>9201.0</td>\n",
       "      <td>0.171670</td>\n",
       "      <td>0</td>\n",
       "    </tr>\n",
       "    <tr>\n",
       "      <th>3</th>\n",
       "      <td>Join Us! Global Perspectives Quarterly Market ...</td>\n",
       "      <td>50943</td>\n",
       "      <td>9005.0</td>\n",
       "      <td>0.176766</td>\n",
       "      <td>0</td>\n",
       "    </tr>\n",
       "    <tr>\n",
       "      <th>4</th>\n",
       "      <td>Reminder: Global Perspectives 2018 Forecast We...</td>\n",
       "      <td>48476</td>\n",
       "      <td>3451.0</td>\n",
       "      <td>0.071190</td>\n",
       "      <td>0</td>\n",
       "    </tr>\n",
       "  </tbody>\n",
       "</table>\n",
       "</div>"
      ],
      "text/plain": [
       "                                             Subject  Sent_Rate   S_Rate  \\\n",
       "0              Utilizing 529 Plans during Tax Season      58735   7736.0   \n",
       "1  College Savings can be a Slam Dunk with Tomorr...      58610  11054.0   \n",
       "2  Join Us! Global Perspectives Midyear Outlook W...      53597   9201.0   \n",
       "3  Join Us! Global Perspectives Quarterly Market ...      50943   9005.0   \n",
       "4  Reminder: Global Perspectives 2018 Forecast We...      48476   3451.0   \n",
       "\n",
       "       Rate  Successful  \n",
       "0  0.131710           0  \n",
       "1  0.188603           0  \n",
       "2  0.171670           0  \n",
       "3  0.176766           0  \n",
       "4  0.071190           0  "
      ]
     },
     "execution_count": 2,
     "metadata": {},
     "output_type": "execute_result"
    }
   ],
   "source": [
    "df=pd.read_csv(\"Final_Subject.csv\")\n",
    "df.head()"
   ]
  },
  {
   "cell_type": "code",
   "execution_count": 5,
   "metadata": {},
   "outputs": [],
   "source": [
    "df.loc[df['Rate']>0.21,'Successful']=1"
   ]
  },
  {
   "cell_type": "code",
   "execution_count": 6,
   "metadata": {},
   "outputs": [],
   "source": [
    "df.drop(['Sent_Rate','S_Rate','Rate'],axis=1,inplace=True)"
   ]
  },
  {
   "cell_type": "code",
   "execution_count": 7,
   "metadata": {},
   "outputs": [
    {
     "data": {
      "text/html": [
       "<div>\n",
       "<style scoped>\n",
       "    .dataframe tbody tr th:only-of-type {\n",
       "        vertical-align: middle;\n",
       "    }\n",
       "\n",
       "    .dataframe tbody tr th {\n",
       "        vertical-align: top;\n",
       "    }\n",
       "\n",
       "    .dataframe thead th {\n",
       "        text-align: right;\n",
       "    }\n",
       "</style>\n",
       "<table border=\"1\" class=\"dataframe\">\n",
       "  <thead>\n",
       "    <tr style=\"text-align: right;\">\n",
       "      <th></th>\n",
       "      <th>Subject</th>\n",
       "      <th>Successful</th>\n",
       "    </tr>\n",
       "  </thead>\n",
       "  <tbody>\n",
       "    <tr>\n",
       "      <th>0</th>\n",
       "      <td>Utilizing 529 Plans during Tax Season</td>\n",
       "      <td>0</td>\n",
       "    </tr>\n",
       "    <tr>\n",
       "      <th>1</th>\n",
       "      <td>College Savings can be a Slam Dunk with Tomorr...</td>\n",
       "      <td>0</td>\n",
       "    </tr>\n",
       "    <tr>\n",
       "      <th>2</th>\n",
       "      <td>Join Us! Global Perspectives Midyear Outlook W...</td>\n",
       "      <td>0</td>\n",
       "    </tr>\n",
       "    <tr>\n",
       "      <th>3</th>\n",
       "      <td>Join Us! Global Perspectives Quarterly Market ...</td>\n",
       "      <td>0</td>\n",
       "    </tr>\n",
       "    <tr>\n",
       "      <th>4</th>\n",
       "      <td>Reminder: Global Perspectives 2018 Forecast We...</td>\n",
       "      <td>0</td>\n",
       "    </tr>\n",
       "  </tbody>\n",
       "</table>\n",
       "</div>"
      ],
      "text/plain": [
       "                                             Subject  Successful\n",
       "0              Utilizing 529 Plans during Tax Season           0\n",
       "1  College Savings can be a Slam Dunk with Tomorr...           0\n",
       "2  Join Us! Global Perspectives Midyear Outlook W...           0\n",
       "3  Join Us! Global Perspectives Quarterly Market ...           0\n",
       "4  Reminder: Global Perspectives 2018 Forecast We...           0"
      ]
     },
     "execution_count": 7,
     "metadata": {},
     "output_type": "execute_result"
    }
   ],
   "source": [
    "df.head()"
   ]
  },
  {
   "cell_type": "code",
   "execution_count": 6,
   "metadata": {},
   "outputs": [],
   "source": [
    "import re\n",
    "import nltk\n",
    "from nltk.corpus import stopwords\n",
    "from nltk.stem.porter import PorterStemmer\n",
    "corpus = []\n",
    "for i in range(0, 876):\n",
    "    Subject = re.sub('[^a-zA-Z]', ' ', df['Subject'][i])\n",
    "    Subject = Subject.lower()\n",
    "    Subject = Subject.split()\n",
    "    ps = PorterStemmer()\n",
    "    Subject = [ps.stem(word) for word in Subject if not word in set(stopwords.words('english'))]\n",
    "    Subject = ' '.join(Subject)\n",
    "    corpus.append(Subject)"
   ]
  },
  {
   "cell_type": "code",
   "execution_count": 7,
   "metadata": {},
   "outputs": [],
   "source": [
    "# Creating the Bag of Words model\n",
    "from sklearn.feature_extraction.text import CountVectorizer\n",
    "cv = CountVectorizer(max_features = 1000)\n",
    "X = cv.fit_transform(corpus).toarray()\n",
    "y = df.iloc[:, 1].values"
   ]
  },
  {
   "cell_type": "code",
   "execution_count": 8,
   "metadata": {},
   "outputs": [],
   "source": [
    "# Splitting the dataset into the Training set and Test set\n",
    "from sklearn.model_selection import train_test_split\n",
    "X_train, X_test, y_train, y_test = train_test_split(X, y, test_size = 0.30, random_state = 0)"
   ]
  },
  {
   "cell_type": "code",
   "execution_count": 9,
   "metadata": {},
   "outputs": [
    {
     "data": {
      "text/plain": [
       "GaussianNB(priors=None, var_smoothing=1e-09)"
      ]
     },
     "execution_count": 9,
     "metadata": {},
     "output_type": "execute_result"
    }
   ],
   "source": [
    "# Fitting Naive Bayes to the Training set\n",
    "from sklearn.naive_bayes import GaussianNB\n",
    "classifier = GaussianNB()\n",
    "classifier.fit(X_train, y_train)"
   ]
  },
  {
   "cell_type": "code",
   "execution_count": 10,
   "metadata": {},
   "outputs": [],
   "source": [
    "# Predicting the Test set results\n",
    "y_pred1 = classifier.predict(X_test)"
   ]
  },
  {
   "cell_type": "code",
   "execution_count": 11,
   "metadata": {},
   "outputs": [],
   "source": [
    "# Making the Confusion Matrix\n",
    "from sklearn.metrics import confusion_matrix\n",
    "cm = confusion_matrix(y_test, y_pred1)"
   ]
  },
  {
   "cell_type": "code",
   "execution_count": 12,
   "metadata": {},
   "outputs": [
    {
     "data": {
      "text/plain": [
       "array([[ 97,  16],\n",
       "       [100,  50]], dtype=int64)"
      ]
     },
     "execution_count": 12,
     "metadata": {},
     "output_type": "execute_result"
    }
   ],
   "source": [
    "cm"
   ]
  },
  {
   "cell_type": "code",
   "execution_count": 13,
   "metadata": {},
   "outputs": [],
   "source": [
    "n_feat=1000"
   ]
  },
  {
   "cell_type": "code",
   "execution_count": 14,
   "metadata": {},
   "outputs": [
    {
     "name": "stderr",
     "output_type": "stream",
     "text": [
      "C:\\Users\\chara\\Downloads\\ANACONDA\\lib\\site-packages\\h5py\\__init__.py:36: FutureWarning: Conversion of the second argument of issubdtype from `float` to `np.floating` is deprecated. In future, it will be treated as `np.float64 == np.dtype(float).type`.\n",
      "  from ._conv import register_converters as _register_converters\n",
      "Using TensorFlow backend.\n"
     ]
    }
   ],
   "source": [
    "from keras.models import Sequential\n",
    "from keras.layers import Dense, Dropout\n",
    "\n",
    "def get_model(n_feat):\n",
    "    model = Sequential()\n",
    "    model.add(Dense(32, activation='relu', input_dim=n_feat))\n",
    "    model.add(Dense(128, activation=\"relu\"))\n",
    "    #model.add(Dropout(.2))\n",
    "    model.add(Dense(256, activation=\"relu\"))\n",
    "    #model.add(Dropout(.5))\n",
    "    model.add(Dense(1, activation=\"sigmoid\"))\n",
    "    model.compile(optimizer=\"adam\", loss=\"binary_crossentropy\", metrics=[\"accuracy\"])\n",
    "    return model"
   ]
  },
  {
   "cell_type": "code",
   "execution_count": 15,
   "metadata": {},
   "outputs": [
    {
     "name": "stdout",
     "output_type": "stream",
     "text": [
      "Epoch 1/10\n",
      "613/613 [==============================] - 1s 2ms/step - loss: 0.6872 - acc: 0.5954\n",
      "Epoch 2/10\n",
      "613/613 [==============================] - 0s 106us/step - loss: 0.6313 - acc: 0.7684\n",
      "Epoch 3/10\n",
      "613/613 [==============================] - 0s 108us/step - loss: 0.4591 - acc: 0.8271\n",
      "Epoch 4/10\n",
      "613/613 [==============================] - 0s 111us/step - loss: 0.3033 - acc: 0.8760\n",
      "Epoch 5/10\n",
      "613/613 [==============================] - 0s 112us/step - loss: 0.2090 - acc: 0.9135\n",
      "Epoch 6/10\n",
      "613/613 [==============================] - 0s 109us/step - loss: 0.1655 - acc: 0.9315\n",
      "Epoch 7/10\n",
      "613/613 [==============================] - 0s 111us/step - loss: 0.1278 - acc: 0.9511\n",
      "Epoch 8/10\n",
      "613/613 [==============================] - 0s 106us/step - loss: 0.1230 - acc: 0.9445\n",
      "Epoch 9/10\n",
      "613/613 [==============================] - 0s 106us/step - loss: 0.1168 - acc: 0.9478\n",
      "Epoch 10/10\n",
      "613/613 [==============================] - 0s 121us/step - loss: 0.0947 - acc: 0.9576\n"
     ]
    },
    {
     "data": {
      "text/plain": [
       "<keras.callbacks.History at 0x1f76b8dbba8>"
      ]
     },
     "execution_count": 15,
     "metadata": {},
     "output_type": "execute_result"
    }
   ],
   "source": [
    "NN = get_model(n_feat)\n",
    "NN.fit(X_train,y_train, epochs=10)"
   ]
  },
  {
   "cell_type": "code",
   "execution_count": 16,
   "metadata": {},
   "outputs": [],
   "source": [
    "from sklearn.metrics import classification_report\n",
    "\n",
    "def predict(model,X_test):\n",
    "    y_pred = model.predict(X_test)\n",
    "    return [1 if pred >= .5 else 0 for pred in y_pred]\n",
    "def print_report(model, x, y_true):\n",
    "    y_pred = predict(model, X_test)\n",
    "    report = classification_report(y_test, y_pred)\n",
    "    print(report)"
   ]
  },
  {
   "cell_type": "code",
   "execution_count": 17,
   "metadata": {},
   "outputs": [
    {
     "name": "stdout",
     "output_type": "stream",
     "text": [
      "              precision    recall  f1-score   support\n",
      "\n",
      "           0       0.49      0.86      0.63       113\n",
      "           1       0.76      0.33      0.46       150\n",
      "\n",
      "   micro avg       0.56      0.56      0.56       263\n",
      "   macro avg       0.62      0.60      0.54       263\n",
      "weighted avg       0.64      0.56      0.53       263\n",
      "\n"
     ]
    }
   ],
   "source": [
    "print_report(classifier,X_test,y_test)"
   ]
  },
  {
   "cell_type": "code",
   "execution_count": 18,
   "metadata": {},
   "outputs": [
    {
     "name": "stdout",
     "output_type": "stream",
     "text": [
      "              precision    recall  f1-score   support\n",
      "\n",
      "           0       0.68      0.70      0.69       113\n",
      "           1       0.77      0.75      0.76       150\n",
      "\n",
      "   micro avg       0.73      0.73      0.73       263\n",
      "   macro avg       0.72      0.72      0.72       263\n",
      "weighted avg       0.73      0.73      0.73       263\n",
      "\n"
     ]
    }
   ],
   "source": [
    "print_report(NN,X_test,y_test)"
   ]
  },
  {
   "cell_type": "code",
   "execution_count": 19,
   "metadata": {},
   "outputs": [],
   "source": [
    "y_pred1=predict(NN,X_test)"
   ]
  },
  {
   "cell_type": "code",
   "execution_count": 20,
   "metadata": {},
   "outputs": [],
   "source": [
    "y_pred1=np.array(y_pred1)"
   ]
  },
  {
   "cell_type": "code",
   "execution_count": 21,
   "metadata": {},
   "outputs": [],
   "source": [
    "y_pred=predict(classifier,X_test)"
   ]
  },
  {
   "cell_type": "code",
   "execution_count": 22,
   "metadata": {},
   "outputs": [
    {
     "data": {
      "text/plain": [
       "array([[ 97,  16],\n",
       "       [100,  50]], dtype=int64)"
      ]
     },
     "execution_count": 22,
     "metadata": {},
     "output_type": "execute_result"
    }
   ],
   "source": [
    "confusion_matrix(y_test,y_pred)"
   ]
  },
  {
   "cell_type": "code",
   "execution_count": 23,
   "metadata": {},
   "outputs": [
    {
     "data": {
      "text/plain": [
       "array([[ 79,  34],\n",
       "       [ 38, 112]], dtype=int64)"
      ]
     },
     "execution_count": 23,
     "metadata": {},
     "output_type": "execute_result"
    }
   ],
   "source": [
    "confusion_matrix(y_test,y_pred1)"
   ]
  },
  {
   "cell_type": "code",
   "execution_count": 24,
   "metadata": {},
   "outputs": [
    {
     "data": {
      "text/plain": [
       "(263,)"
      ]
     },
     "execution_count": 24,
     "metadata": {},
     "output_type": "execute_result"
    }
   ],
   "source": [
    "y_test.shape"
   ]
  },
  {
   "cell_type": "code",
   "execution_count": 25,
   "metadata": {},
   "outputs": [
    {
     "data": {
      "text/plain": [
       "0.7110266159695817"
      ]
     },
     "execution_count": 25,
     "metadata": {},
     "output_type": "execute_result"
    }
   ],
   "source": [
    "187/263"
   ]
  },
  {
   "cell_type": "code",
   "execution_count": 26,
   "metadata": {},
   "outputs": [
    {
     "data": {
      "text/plain": [
       "0.2889733840304182"
      ]
     },
     "execution_count": 26,
     "metadata": {},
     "output_type": "execute_result"
    }
   ],
   "source": [
    "76/263"
   ]
  },
  {
   "cell_type": "code",
   "execution_count": 3,
   "metadata": {},
   "outputs": [],
   "source": [
    "import numpy as np\n",
    "import pandas as pd\n",
    "import matplotlib.pyplot as plt\n",
    "\n",
    "from sklearn.model_selection import train_test_split\n",
    "from sklearn.feature_extraction.text import CountVectorizer, TfidfTransformer\n",
    "from sklearn.metrics import confusion_matrix\n",
    "from sklearn import metrics\n",
    "from sklearn.metrics import roc_curve, auc"
   ]
  },
  {
   "cell_type": "code",
   "execution_count": 8,
   "metadata": {},
   "outputs": [],
   "source": [
    "import re\n",
    "import string\n",
    "import nltk\n",
    "\n",
    "def cleanup(sentence):\n",
    "    sentence = sentence.lower()\n",
    "    sentence = re.sub(\"[\\[].*?[\\]]\", \"\", sentence)\n",
    "    return sentence\n",
    "\n",
    "df['Words'] = df['Subject'].apply(cleanup)"
   ]
  },
  {
   "cell_type": "code",
   "execution_count": 9,
   "metadata": {},
   "outputs": [
    {
     "name": "stdout",
     "output_type": "stream",
     "text": [
      "(876, 500)\n",
      "['10', '100', '11', '12', '13', '16', '17', '19', '20', '2016', '2017', '2018', '21', '23', '24', '26', '27th', '30', '31', '529', 'about', 'access', 'across', 'active', 'activity', 'adds', 'advisors', 'advisory', 'after', 'again', 'agg', 'all', 'alternate', 'always', 'an', 'and', 'another', 'anticipating', 'approach', 'april', 'are', 'as', 'asset', 'assets', 'at', 'august', 'available', 'avoid', 'back', 'balance', 'bank', 'be', 'bear', 'best', 'better', 'blog', 'bond', 'bonds', 'book', 'build', 'bull', 'bump', 'business', 'but', 'buy', 'by', 'call', 'can', 'canâ', 'cap', 'capital', 'capture', 'care', 'case', 'chance', 'change', 'changing', 'china', 'choppy', 'chura', 'cio', 'client', 'clients', 'climb', 'college', 'come', 'coming', 'commentary', 'common', 'conference', 'consistency', 'consistent', 'continue', 'continues', 'core', 'credit', 'cut', 'cuts', 'cycle', 'data', 'date', 'day', 'days', 'december', 'design', 'despite', 'diligence', 'dipped', 'diversification', 'diversifying', 'do', 'dollar', 'dont', 'donâ', 'down', 'downside', 'due', 'during', 'earnings', 'economic', 'economy', 'end', 'energy', 'enough', 'environment', 'equites', 'equities', 'equity', 'fact', 'february', 'fed', 'fi', 'finish', 'first', 'fixed', 'flat', 'focus', 'following', 'follows', 'fomc', 'for', 'forecast', 'forecasts', 'forget', 'fork', 'forward', 'foundation', 'from', 'fund', 'fundamental', 'fundamentals', 'funds', 'gain', 'gains', 'game', 'garden', 'gas', 'gdp', 'geopolitical', 'get', 'gets', 'getting', 'gifts', 'global', 'go', 'goals', 'gold', 'goldilocks', 'good', 'goodson', 'gpmm', 'ground', 'grow', 'growing', 'growth', 'had', 'handle', 'happens', 'happy', 'hard', 'has', 'have', 'hawks', 'headlines', 'hear', 'heavy', 'help', 'here', 'high', 'higher', 'highlights', 'highs', 'hike', 'historical', 'hit', 'holiday', 'holidays', 'holistic', 'home', 'housing', 'how', 'ideas', 'if', 'iisix', 'im', 'impact', 'impacts', 'impending', 'important', 'in', 'income', 'indexes', 'indicates', 'inflation', 'infrastructure', 'insights', 'insiteâ', 'intact', 'interest', 'intermediate', 'into', 'introducing', 'investing', 'investment', 'investors', 'invite', 'invited', 'is', 'issue', 'it', 'its', 'itâ', 'january', 'jason', 'job', 'jobs', 'join', 'joining', 'july', 'june', 'just', 'keep', 'keeps', 'key', 'knows', 'labor', 'large', 'last', 'late', 'later', 'latest', 'leg', 'less', 'lesson', 'let', 'libor', 'like', 'limbo', 'limited', 'list', 'little', 'live', 'loan', 'loans', 'long', 'longer', 'look', 'looking', 'low', 'lower', 'lpl', 'major', 'make', 'management', 'manager', 'managers', 'manufacturing', 'march', 'market', 'markets', 'matt', 'may', 'me', 'meet', 'midyear', 'miss', 'missed', 'mixed', 'money', 'monthly', 'more', 'mortgage', 'much', 'multi', 'national', 'navigate', 'need', 'new', 'news', 'next', 'no', 'not', 'november', 'now', 'october', 'of', 'oil', 'on', 'one', 'opportunities', 'option', 'or', 'our', 'out', 'outlook', 'outperformed', 'over', 'parade', 'partner', 'party', 'perspectives', 'phase', 'place', 'plan', 'plans', 'platform', 'play', 'please', 'points', 'policy', 'political', 'pomona', 'portfolio', 'portfolios', 'positioned', 'positive', 'post', 'posted', 'prepare', 'private', 'pro', 'productivity', 'protection', 'provide', 'q1', 'q4', 'quarter', 'quarterly', 'quiet', 'rate', 'rated', 'rates', 're', 'ready', 'real', 'really', 'record', 'reflation', 'reform', 'register', 'reliable', 'remain', 'remains', 'reminder', 'replay', 'report', 'reports', 'reposition', 'research', 'resilient', 'results', 'retail', 'retirement', 'return', 'returns', 'review', 'ricpâ', 'right', 'rise', 'rising', 'risk', 'road', 'room', 'rose', 'rpag', 'rules', 'run', 'sales', 'santa', 'save', 'saving', 'savings', 'score', 'scores', 'season', 'second', 'securitized', 'see', 'seeking', 'selection', 'seminar', 'senior', 'september', 'share', 'sheet', 'shift', 'should', 'show', 'signal', 'since', 'slam', 'small', 'so', 'solid', 'solutions', 'some', 'space', 'spirits', 'stage', 'start', 'stay', 'staying', 'steady', 'steps', 'stick', 'still', 'stock', 'stocks', 'strategic', 'strategies', 'strategy', 'strength', 'strong', 'summer', 'tactical', 'take', 'takes', 'talk', 'talking', 'target', 'tax', 'taxes', 'team', 'teflon', 'tensions', 'term', 'than', 'thank', 'that', 'the', 'their', 'this', 'three', 'through', 'time', 'to', 'today', 'todays', 'toms', 'too', 'top', 'track', 'trade', 'trump', 'two', 'uncertainty', 'unconstrained', 'up', 'update', 'upside', 'us', 'value', 'volatility', 'voya', 'voyas', 'voyaâ', 'want', 'war', 'washington', 'watch', 'way', 'we', 'weather', 'webcast', 'webinar', 'week', 'what', 'when', 'while', 'who', 'why', 'will', 'with', 'world', 'year', 'years', 'yield', 'yields', 'you', 'your']\n"
     ]
    }
   ],
   "source": [
    "count_vect = CountVectorizer(min_df = 1, max_features = 500)\n",
    "X_train_counts = count_vect.fit_transform(df['Words'])\n",
    "\n",
    "X_train_counts = X_train_counts.toarray()\n",
    "print(X_train_counts.shape)\n",
    "\n",
    "# Take a look at the words in the vocabulary\n",
    "vocab = count_vect.get_feature_names()\n",
    "print(vocab)"
   ]
  },
  {
   "cell_type": "code",
   "execution_count": 10,
   "metadata": {},
   "outputs": [],
   "source": [
    "# Sum up the counts of each vocabulary word\n",
    "dist = np.sum(X_train_counts, axis=0)\n",
    "\n",
    "# For each, print the vocabulary word and the number of times it \n",
    "# appears in the training set\n",
    "a=[]\n",
    "for tag, count in zip(vocab, dist):\n",
    "    a=(count, tag)"
   ]
  },
  {
   "cell_type": "code",
   "execution_count": 11,
   "metadata": {},
   "outputs": [],
   "source": [
    "G=pd.DataFrame(vocab)"
   ]
  },
  {
   "cell_type": "code",
   "execution_count": 12,
   "metadata": {},
   "outputs": [],
   "source": [
    "G['Count']=dist"
   ]
  },
  {
   "cell_type": "code",
   "execution_count": 13,
   "metadata": {},
   "outputs": [],
   "source": [
    "G=G.rename({0:'word'},axis=1)"
   ]
  },
  {
   "cell_type": "code",
   "execution_count": 14,
   "metadata": {},
   "outputs": [
    {
     "data": {
      "text/html": [
       "<div>\n",
       "<style scoped>\n",
       "    .dataframe tbody tr th:only-of-type {\n",
       "        vertical-align: middle;\n",
       "    }\n",
       "\n",
       "    .dataframe tbody tr th {\n",
       "        vertical-align: top;\n",
       "    }\n",
       "\n",
       "    .dataframe thead th {\n",
       "        text-align: right;\n",
       "    }\n",
       "</style>\n",
       "<table border=\"1\" class=\"dataframe\">\n",
       "  <thead>\n",
       "    <tr style=\"text-align: right;\">\n",
       "      <th></th>\n",
       "      <th>word</th>\n",
       "      <th>Count</th>\n",
       "    </tr>\n",
       "  </thead>\n",
       "  <tbody>\n",
       "    <tr>\n",
       "      <th>0</th>\n",
       "      <td>10</td>\n",
       "      <td>3</td>\n",
       "    </tr>\n",
       "    <tr>\n",
       "      <th>1</th>\n",
       "      <td>100</td>\n",
       "      <td>4</td>\n",
       "    </tr>\n",
       "    <tr>\n",
       "      <th>2</th>\n",
       "      <td>11</td>\n",
       "      <td>5</td>\n",
       "    </tr>\n",
       "    <tr>\n",
       "      <th>3</th>\n",
       "      <td>12</td>\n",
       "      <td>6</td>\n",
       "    </tr>\n",
       "    <tr>\n",
       "      <th>4</th>\n",
       "      <td>13</td>\n",
       "      <td>3</td>\n",
       "    </tr>\n",
       "  </tbody>\n",
       "</table>\n",
       "</div>"
      ],
      "text/plain": [
       "  word  Count\n",
       "0   10      3\n",
       "1  100      4\n",
       "2   11      5\n",
       "3   12      6\n",
       "4   13      3"
      ]
     },
     "execution_count": 14,
     "metadata": {},
     "output_type": "execute_result"
    }
   ],
   "source": [
    "G.head()"
   ]
  },
  {
   "cell_type": "code",
   "execution_count": 15,
   "metadata": {},
   "outputs": [
    {
     "data": {
      "text/html": [
       "<div>\n",
       "<style scoped>\n",
       "    .dataframe tbody tr th:only-of-type {\n",
       "        vertical-align: middle;\n",
       "    }\n",
       "\n",
       "    .dataframe tbody tr th {\n",
       "        vertical-align: top;\n",
       "    }\n",
       "\n",
       "    .dataframe thead th {\n",
       "        text-align: right;\n",
       "    }\n",
       "</style>\n",
       "<table border=\"1\" class=\"dataframe\">\n",
       "  <thead>\n",
       "    <tr style=\"text-align: right;\">\n",
       "      <th></th>\n",
       "      <th>word</th>\n",
       "      <th>Count</th>\n",
       "    </tr>\n",
       "  </thead>\n",
       "  <tbody>\n",
       "    <tr>\n",
       "      <th>495</th>\n",
       "      <td>years</td>\n",
       "      <td>3</td>\n",
       "    </tr>\n",
       "    <tr>\n",
       "      <th>496</th>\n",
       "      <td>yield</td>\n",
       "      <td>3</td>\n",
       "    </tr>\n",
       "    <tr>\n",
       "      <th>497</th>\n",
       "      <td>yields</td>\n",
       "      <td>3</td>\n",
       "    </tr>\n",
       "    <tr>\n",
       "      <th>498</th>\n",
       "      <td>you</td>\n",
       "      <td>49</td>\n",
       "    </tr>\n",
       "    <tr>\n",
       "      <th>499</th>\n",
       "      <td>your</td>\n",
       "      <td>46</td>\n",
       "    </tr>\n",
       "  </tbody>\n",
       "</table>\n",
       "</div>"
      ],
      "text/plain": [
       "       word  Count\n",
       "495   years      3\n",
       "496   yield      3\n",
       "497  yields      3\n",
       "498     you     49\n",
       "499    your     46"
      ]
     },
     "execution_count": 15,
     "metadata": {},
     "output_type": "execute_result"
    }
   ],
   "source": [
    "G.tail()"
   ]
  },
  {
   "cell_type": "code",
   "execution_count": 16,
   "metadata": {},
   "outputs": [],
   "source": [
    "G.to_csv('Subject_WordCount.csv',index=False)"
   ]
  },
  {
   "cell_type": "code",
   "execution_count": null,
   "metadata": {},
   "outputs": [],
   "source": []
  }
 ],
 "metadata": {
  "kernelspec": {
   "display_name": "Python 3",
   "language": "python",
   "name": "python3"
  },
  "language_info": {
   "codemirror_mode": {
    "name": "ipython",
    "version": 3
   },
   "file_extension": ".py",
   "mimetype": "text/x-python",
   "name": "python",
   "nbconvert_exporter": "python",
   "pygments_lexer": "ipython3",
   "version": "3.6.4"
  }
 },
 "nbformat": 4,
 "nbformat_minor": 2
}
